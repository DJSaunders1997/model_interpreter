{
 "cells": [
  {
   "cell_type": "markdown",
   "metadata": {},
   "source": [
    "## Model Interpreter Example Notebook"
   ]
  },
  {
   "cell_type": "markdown",
   "metadata": {},
   "source": [
    "### Setup"
   ]
  },
  {
   "cell_type": "code",
   "execution_count": 1,
   "metadata": {
    "ExecuteTime": {
     "end_time": "2024-04-08T15:45:26.178035Z",
     "start_time": "2024-04-08T15:45:24.273058Z"
    }
   },
   "outputs": [],
   "source": [
    "from sklearn.ensemble import RandomForestClassifier\n",
    "from sklearn.datasets import make_classification\n",
    "from sklearn.model_selection import train_test_split\n",
    "\n",
    "import sys\n",
    "\n",
    "sys.path.append(\"../../\")\n",
    "\n",
    "import model_interpreter\n",
    "from model_interpreter.interpreter import ModelInterpreter"
   ]
  },
  {
   "cell_type": "code",
   "execution_count": 2,
   "metadata": {
    "ExecuteTime": {
     "end_time": "2024-04-08T15:45:26.192035Z",
     "start_time": "2024-04-08T15:45:26.181042Z"
    }
   },
   "outputs": [
    {
     "data": {
      "text/plain": [
       "'1.0.0'"
      ]
     },
     "execution_count": 2,
     "metadata": {},
     "output_type": "execute_result"
    }
   ],
   "source": [
    "model_interpreter.__version__"
   ]
  },
  {
   "cell_type": "markdown",
   "metadata": {},
   "source": [
    "### Prepare data"
   ]
  },
  {
   "cell_type": "code",
   "execution_count": 3,
   "metadata": {
    "ExecuteTime": {
     "end_time": "2024-04-08T15:45:26.348918Z",
     "start_time": "2024-04-08T15:45:26.195153Z"
    }
   },
   "outputs": [
    {
     "data": {
      "text/html": [
       "<style>#sk-container-id-1 {color: black;background-color: white;}#sk-container-id-1 pre{padding: 0;}#sk-container-id-1 div.sk-toggleable {background-color: white;}#sk-container-id-1 label.sk-toggleable__label {cursor: pointer;display: block;width: 100%;margin-bottom: 0;padding: 0.3em;box-sizing: border-box;text-align: center;}#sk-container-id-1 label.sk-toggleable__label-arrow:before {content: \"▸\";float: left;margin-right: 0.25em;color: #696969;}#sk-container-id-1 label.sk-toggleable__label-arrow:hover:before {color: black;}#sk-container-id-1 div.sk-estimator:hover label.sk-toggleable__label-arrow:before {color: black;}#sk-container-id-1 div.sk-toggleable__content {max-height: 0;max-width: 0;overflow: hidden;text-align: left;background-color: #f0f8ff;}#sk-container-id-1 div.sk-toggleable__content pre {margin: 0.2em;color: black;border-radius: 0.25em;background-color: #f0f8ff;}#sk-container-id-1 input.sk-toggleable__control:checked~div.sk-toggleable__content {max-height: 200px;max-width: 100%;overflow: auto;}#sk-container-id-1 input.sk-toggleable__control:checked~label.sk-toggleable__label-arrow:before {content: \"▾\";}#sk-container-id-1 div.sk-estimator input.sk-toggleable__control:checked~label.sk-toggleable__label {background-color: #d4ebff;}#sk-container-id-1 div.sk-label input.sk-toggleable__control:checked~label.sk-toggleable__label {background-color: #d4ebff;}#sk-container-id-1 input.sk-hidden--visually {border: 0;clip: rect(1px 1px 1px 1px);clip: rect(1px, 1px, 1px, 1px);height: 1px;margin: -1px;overflow: hidden;padding: 0;position: absolute;width: 1px;}#sk-container-id-1 div.sk-estimator {font-family: monospace;background-color: #f0f8ff;border: 1px dotted black;border-radius: 0.25em;box-sizing: border-box;margin-bottom: 0.5em;}#sk-container-id-1 div.sk-estimator:hover {background-color: #d4ebff;}#sk-container-id-1 div.sk-parallel-item::after {content: \"\";width: 100%;border-bottom: 1px solid gray;flex-grow: 1;}#sk-container-id-1 div.sk-label:hover label.sk-toggleable__label {background-color: #d4ebff;}#sk-container-id-1 div.sk-serial::before {content: \"\";position: absolute;border-left: 1px solid gray;box-sizing: border-box;top: 0;bottom: 0;left: 50%;z-index: 0;}#sk-container-id-1 div.sk-serial {display: flex;flex-direction: column;align-items: center;background-color: white;padding-right: 0.2em;padding-left: 0.2em;position: relative;}#sk-container-id-1 div.sk-item {position: relative;z-index: 1;}#sk-container-id-1 div.sk-parallel {display: flex;align-items: stretch;justify-content: center;background-color: white;position: relative;}#sk-container-id-1 div.sk-item::before, #sk-container-id-1 div.sk-parallel-item::before {content: \"\";position: absolute;border-left: 1px solid gray;box-sizing: border-box;top: 0;bottom: 0;left: 50%;z-index: -1;}#sk-container-id-1 div.sk-parallel-item {display: flex;flex-direction: column;z-index: 1;position: relative;background-color: white;}#sk-container-id-1 div.sk-parallel-item:first-child::after {align-self: flex-end;width: 50%;}#sk-container-id-1 div.sk-parallel-item:last-child::after {align-self: flex-start;width: 50%;}#sk-container-id-1 div.sk-parallel-item:only-child::after {width: 0;}#sk-container-id-1 div.sk-dashed-wrapped {border: 1px dashed gray;margin: 0 0.4em 0.5em 0.4em;box-sizing: border-box;padding-bottom: 0.4em;background-color: white;}#sk-container-id-1 div.sk-label label {font-family: monospace;font-weight: bold;display: inline-block;line-height: 1.2em;}#sk-container-id-1 div.sk-label-container {text-align: center;}#sk-container-id-1 div.sk-container {/* jupyter's `normalize.less` sets `[hidden] { display: none; }` but bootstrap.min.css set `[hidden] { display: none !important; }` so we also need the `!important` here to be able to override the default hidden behavior on the sphinx rendered scikit-learn.org. See: https://github.com/scikit-learn/scikit-learn/issues/21755 */display: inline-block !important;position: relative;}#sk-container-id-1 div.sk-text-repr-fallback {display: none;}</style><div id=\"sk-container-id-1\" class=\"sk-top-container\"><div class=\"sk-text-repr-fallback\"><pre>RandomForestClassifier(max_depth=2, random_state=0)</pre><b>In a Jupyter environment, please rerun this cell to show the HTML representation or trust the notebook. <br />On GitHub, the HTML representation is unable to render, please try loading this page with nbviewer.org.</b></div><div class=\"sk-container\" hidden><div class=\"sk-item\"><div class=\"sk-estimator sk-toggleable\"><input class=\"sk-toggleable__control sk-hidden--visually\" id=\"sk-estimator-id-1\" type=\"checkbox\" checked><label for=\"sk-estimator-id-1\" class=\"sk-toggleable__label sk-toggleable__label-arrow\">RandomForestClassifier</label><div class=\"sk-toggleable__content\"><pre>RandomForestClassifier(max_depth=2, random_state=0)</pre></div></div></div></div></div>"
      ],
      "text/plain": [
       "RandomForestClassifier(max_depth=2, random_state=0)"
      ]
     },
     "execution_count": 3,
     "metadata": {},
     "output_type": "execute_result"
    }
   ],
   "source": [
    "X, y = make_classification(\n",
    "    n_samples=1000,\n",
    "    n_features=4,\n",
    "    n_informative=2,\n",
    "    n_redundant=0,\n",
    "    random_state=0,\n",
    "    shuffle=False,\n",
    ")\n",
    "\n",
    "\n",
    "X_train, X_test, y_train, y_test = train_test_split(\n",
    "    X, y, test_size=0.33, random_state=42\n",
    ")\n",
    "\n",
    "clf = RandomForestClassifier(max_depth=2, random_state=0)\n",
    "clf.fit(X_train, y_train)"
   ]
  },
  {
   "cell_type": "code",
   "execution_count": 4,
   "metadata": {
    "ExecuteTime": {
     "end_time": "2024-04-08T15:45:26.356960Z",
     "start_time": "2024-04-08T15:45:26.352925Z"
    }
   },
   "outputs": [],
   "source": [
    "feature_names = [\"feature1\", \"feature2\", \"feature3\", \"feature4\"]"
   ]
  },
  {
   "cell_type": "markdown",
   "metadata": {},
   "source": [
    "### Build single model contribution object"
   ]
  },
  {
   "cell_type": "markdown",
   "metadata": {},
   "source": [
    "A model interpreter object is created by specifiying the feature names in the same order as used for building the model."
   ]
  },
  {
   "cell_type": "code",
   "execution_count": 5,
   "metadata": {
    "ExecuteTime": {
     "end_time": "2024-04-08T15:45:26.369039Z",
     "start_time": "2024-04-08T15:45:26.359032Z"
    }
   },
   "outputs": [],
   "source": [
    "single_model_contribution = ModelInterpreter(feature_names)"
   ]
  },
  {
   "cell_type": "markdown",
   "metadata": {},
   "source": [
    "### Build explainer"
   ]
  },
  {
   "cell_type": "markdown",
   "metadata": {},
   "source": [
    "The fit method needs to be called on the model to build the explainer."
   ]
  },
  {
   "cell_type": "code",
   "execution_count": 6,
   "metadata": {
    "ExecuteTime": {
     "end_time": "2024-04-08T15:45:26.393319Z",
     "start_time": "2024-04-08T15:45:26.372037Z"
    }
   },
   "outputs": [],
   "source": [
    "single_model_contribution.fit(clf)"
   ]
  },
  {
   "cell_type": "markdown",
   "metadata": {},
   "source": [
    "### Define single row of data to get contributions for"
   ]
  },
  {
   "cell_type": "code",
   "execution_count": 7,
   "metadata": {
    "ExecuteTime": {
     "end_time": "2024-04-08T15:45:26.400444Z",
     "start_time": "2024-04-08T15:45:26.393319Z"
    }
   },
   "outputs": [],
   "source": [
    "single_row = X[0]"
   ]
  },
  {
   "cell_type": "markdown",
   "metadata": {},
   "source": [
    "### Use the transform method to get feature contributions"
   ]
  },
  {
   "cell_type": "markdown",
   "metadata": {},
   "source": [
    "The transform method is called on the single row to create the class output, which by default returns a sorted list of dictionaries of features with descending absolute contribution to the prediction in the format:\n",
    "\n",
    "`[{feature_name: feature_contribution}, ... ]`\n",
    "\n",
    "return_feature_values can also be set to True so the return is:\n",
    "\n",
    "`[{feature_name: (feature_value, feature_contribution)}, ... ]`\n",
    "\n",
    "this is only implemented when the return_type is not set to the default value of \"name_value_dicts\""
   ]
  },
  {
   "cell_type": "code",
   "execution_count": 8,
   "metadata": {
    "ExecuteTime": {
     "end_time": "2024-04-08T15:45:26.418198Z",
     "start_time": "2024-04-08T15:45:26.403444Z"
    }
   },
   "outputs": [
    {
     "name": "stdout",
     "output_type": "stream",
     "text": [
      "[{'Name': 'feature2', 'Value': -0.349129583}, {'Name': 'feature1', 'Value': -0.0039231513}, {'Name': 'feature4', 'Value': 0.0031653932}, {'Name': 'feature3', 'Value': 0.0013787609}]\n"
     ]
    }
   ],
   "source": [
    "contribution_list = single_model_contribution.transform(\n",
    "    single_row, return_feature_values=False\n",
    ")\n",
    "print(contribution_list)"
   ]
  },
  {
   "cell_type": "code",
   "execution_count": 9,
   "metadata": {
    "ExecuteTime": {
     "end_time": "2024-04-08T15:45:26.431202Z",
     "start_time": "2024-04-08T15:45:26.422197Z"
    }
   },
   "outputs": [
    {
     "name": "stdout",
     "output_type": "stream",
     "text": [
      "[{'feature2': (-1.2990134593088984, -0.34912958304807074)}, {'feature1': (-1.6685316675305422, -0.0039231513013799485)}, {'feature4': (-0.6036204360190907, 0.0031653931724603453)}, {'feature3': (0.27464720361244455, 0.0013787609499948776)}]\n"
     ]
    }
   ],
   "source": [
    "contribution_list = single_model_contribution.transform(\n",
    "    single_row, return_feature_values=True, return_type=\"dicts\"\n",
    ")\n",
    "print(contribution_list)"
   ]
  },
  {
   "cell_type": "markdown",
   "metadata": {},
   "source": [
    "You can provide a `feature_mapping` dictionary which can either map feature names to more interpretable names, or group features together"
   ]
  },
  {
   "cell_type": "code",
   "execution_count": 10,
   "metadata": {
    "ExecuteTime": {
     "end_time": "2024-04-08T15:45:26.442197Z",
     "start_time": "2024-04-08T15:45:26.437193Z"
    }
   },
   "outputs": [
    {
     "name": "stdout",
     "output_type": "stream",
     "text": [
      "[{'Name': 'feature 2 was mapped', 'Value': -0.349129583}, {'Name': 'feature 1 was mapped', 'Value': -0.0039231513}, {'Name': 'feature 4 was mapped', 'Value': 0.0031653932}, {'Name': 'feature 3 was mapped', 'Value': 0.0013787609}]\n"
     ]
    }
   ],
   "source": [
    "mapping_dict = {\n",
    "    \"feature1\": \"feature 1 was mapped\",\n",
    "    \"feature2\": \"feature 2 was mapped\",\n",
    "    \"feature3\": \"feature 3 was mapped\",\n",
    "    \"feature4\": \"feature 4 was mapped\",\n",
    "}\n",
    "\n",
    "contribution_list_mapped = single_model_contribution.transform(\n",
    "    single_row, feature_mappings=mapping_dict\n",
    ")\n",
    "print(contribution_list_mapped)"
   ]
  },
  {
   "cell_type": "markdown",
   "metadata": {},
   "source": [
    "In the below example we create groups for the number of rooms and location. The resulting grouped contributions equal the sum of the individual feature contributions."
   ]
  },
  {
   "cell_type": "code",
   "execution_count": 11,
   "metadata": {
    "ExecuteTime": {
     "end_time": "2024-04-08T15:45:26.455606Z",
     "start_time": "2024-04-08T15:45:26.444192Z"
    }
   },
   "outputs": [
    {
     "name": "stdout",
     "output_type": "stream",
     "text": [
      "[{'Name': 'feature 2 and 3 was mapped', 'Value': -0.3477508221}, {'Name': 'feature 1 was mapped', 'Value': -0.0039231513}, {'Name': 'feature 4 was mapped', 'Value': 0.0031653932}]\n"
     ]
    }
   ],
   "source": [
    "grouping_dict = {\n",
    "    \"feature1\": \"feature 1 was mapped\",\n",
    "    \"feature2\": \"feature 2 and 3 was mapped\",\n",
    "    \"feature3\": \"feature 2 and 3 was mapped\",\n",
    "    \"feature4\": \"feature 4 was mapped\",\n",
    "}\n",
    "\n",
    "contribution_list_grouped = single_model_contribution.transform(\n",
    "    single_row, feature_mappings=grouping_dict\n",
    ")\n",
    "print(contribution_list_grouped)"
   ]
  },
  {
   "cell_type": "markdown",
   "metadata": {},
   "source": [
    "There are also three `sorting` options avaliable:\n",
    "- `'abs'`,  which is the default used in the above examples sorts by the absolute value of the feature contribution\n",
    "- `'positive'`, which sorts the contributions in descending order\n",
    "- `'label'`, which sorts in a descending order if `pred_label > 0`, and ascending if `pred_label = 0`\n",
    "\n",
    " `n_return` can also be specified to return only the top n features according to the sorting option applied. \n",
    " \n",
    " Some examples of how these variables are used are provided below."
   ]
  },
  {
   "cell_type": "code",
   "execution_count": 12,
   "metadata": {
    "ExecuteTime": {
     "end_time": "2024-04-08T15:45:26.468232Z",
     "start_time": "2024-04-08T15:45:26.458606Z"
    }
   },
   "outputs": [
    {
     "name": "stdout",
     "output_type": "stream",
     "text": [
      "[{'Name': 'feature 2 was mapped', 'Value': -0.349129583}, {'Name': 'feature 1 was mapped', 'Value': -0.0039231513}, {'Name': 'feature 4 was mapped', 'Value': 0.0031653932}, {'Name': 'feature 3 was mapped', 'Value': 0.0013787609}]\n"
     ]
    }
   ],
   "source": [
    "contribution_list_abs = single_model_contribution.transform(\n",
    "    single_row, feature_mappings=mapping_dict, sorting=\"abs\", n_return=5\n",
    ")\n",
    "print(contribution_list_abs)"
   ]
  },
  {
   "cell_type": "code",
   "execution_count": 13,
   "metadata": {
    "ExecuteTime": {
     "end_time": "2024-04-08T15:45:26.479283Z",
     "start_time": "2024-04-08T15:45:26.471230Z"
    }
   },
   "outputs": [
    {
     "name": "stdout",
     "output_type": "stream",
     "text": [
      "[{'Name': 'feature 4 was mapped', 'Value': 0.0031653932}, {'Name': 'feature 3 was mapped', 'Value': 0.0013787609}, {'Name': 'feature 1 was mapped', 'Value': -0.0039231513}, {'Name': 'feature 2 was mapped', 'Value': -0.349129583}]\n"
     ]
    }
   ],
   "source": [
    "contribution_list_label_pos = single_model_contribution.transform(\n",
    "    single_row, feature_mappings=mapping_dict, sorting=\"label\", pred_label=1\n",
    ")\n",
    "print(contribution_list_label_pos)"
   ]
  },
  {
   "cell_type": "code",
   "execution_count": 14,
   "metadata": {
    "ExecuteTime": {
     "end_time": "2024-04-08T15:45:26.491344Z",
     "start_time": "2024-04-08T15:45:26.483060Z"
    }
   },
   "outputs": [
    {
     "name": "stdout",
     "output_type": "stream",
     "text": [
      "[{'Name': 'feature 2 was mapped', 'Value': -0.349129583}, {'Name': 'feature 1 was mapped', 'Value': -0.0039231513}, {'Name': 'feature 3 was mapped', 'Value': 0.0013787609}, {'Name': 'feature 4 was mapped', 'Value': 0.0031653932}]\n"
     ]
    }
   ],
   "source": [
    "contribution_list_label_0 = single_model_contribution.transform(\n",
    "    single_row, feature_mappings=mapping_dict, sorting=\"label\", pred_label=0\n",
    ")\n",
    "print(contribution_list_label_0)"
   ]
  },
  {
   "cell_type": "markdown",
   "metadata": {},
   "source": [
    "We can also chose to return a single dictionary with format `{feature_name: feature_contribution, ... }` or list of tuples with format `[(feature_name, feature_contribution),  ... ]` using the `return_type` variable "
   ]
  },
  {
   "cell_type": "code",
   "execution_count": 15,
   "metadata": {
    "ExecuteTime": {
     "end_time": "2024-04-08T15:45:26.503919Z",
     "start_time": "2024-04-08T15:45:26.495231Z"
    }
   },
   "outputs": [
    {
     "name": "stdout",
     "output_type": "stream",
     "text": [
      "{'feature 2 was mapped': -0.34912958304807074, 'feature 1 was mapped': -0.0039231513013799485, 'feature 4 was mapped': 0.0031653931724603453, 'feature 3 was mapped': 0.0013787609499948776}\n"
     ]
    }
   ],
   "source": [
    "contribution_single_dict = single_model_contribution.transform(\n",
    "    single_row, feature_mappings=mapping_dict, n_return=5, return_type=\"single_dict\"\n",
    ")\n",
    "print(contribution_single_dict)"
   ]
  },
  {
   "cell_type": "code",
   "execution_count": 16,
   "metadata": {
    "ExecuteTime": {
     "end_time": "2024-04-08T15:45:26.518793Z",
     "start_time": "2024-04-08T15:45:26.506915Z"
    }
   },
   "outputs": [
    {
     "name": "stdout",
     "output_type": "stream",
     "text": [
      "[('feature 2 was mapped', -0.34912958304807074), ('feature 1 was mapped', -0.0039231513013799485), ('feature 4 was mapped', 0.0031653931724603453), ('feature 3 was mapped', 0.0013787609499948776)]\n"
     ]
    }
   ],
   "source": [
    "contribution_list_tups = single_model_contribution.transform(\n",
    "    single_row, feature_mappings=mapping_dict, n_return=5, return_type=\"tuples\"\n",
    ")\n",
    "print(contribution_list_tups)"
   ]
  },
  {
   "cell_type": "markdown",
   "metadata": {},
   "source": [
    "### Predict for class 1 vs class 0"
   ]
  },
  {
   "cell_type": "markdown",
   "metadata": {},
   "source": [
    "When generating SHAP values for different models you can select which class you wish to return. The default value for this is 1. i.e the positive case. As this is a binary classification problem the feature importance should be the inverse of one another. "
   ]
  },
  {
   "cell_type": "code",
   "execution_count": 17,
   "metadata": {
    "ExecuteTime": {
     "end_time": "2024-04-08T15:45:26.548040Z",
     "start_time": "2024-04-08T15:45:26.523320Z"
    }
   },
   "outputs": [
    {
     "name": "stdout",
     "output_type": "stream",
     "text": [
      "[{'Name': 'feature2', 'Value': -0.349129583}, {'Name': 'feature1', 'Value': -0.0039231513}, {'Name': 'feature4', 'Value': 0.0031653932}, {'Name': 'feature3', 'Value': 0.0013787609}]\n"
     ]
    }
   ],
   "source": [
    "single_model_contribution = ModelInterpreter(feature_names)\n",
    "single_model_contribution.fit(clf)\n",
    "\n",
    "contribution_list = single_model_contribution.transform(\n",
    "    single_row, return_feature_values=False\n",
    ")\n",
    "print(contribution_list)"
   ]
  },
  {
   "cell_type": "code",
   "execution_count": 18,
   "metadata": {
    "ExecuteTime": {
     "end_time": "2024-04-08T15:45:26.578944Z",
     "start_time": "2024-04-08T15:45:26.552413Z"
    }
   },
   "outputs": [
    {
     "name": "stdout",
     "output_type": "stream",
     "text": [
      "[{'Name': 'feature2', 'Value': 0.349129583}, {'Name': 'feature1', 'Value': 0.0039231513}, {'Name': 'feature4', 'Value': -0.0031653932}, {'Name': 'feature3', 'Value': -0.0013787609}]\n"
     ]
    }
   ],
   "source": [
    "single_model_contribution = ModelInterpreter(feature_names)\n",
    "single_model_contribution.fit(clf)\n",
    "\n",
    "contribution_list = single_model_contribution.transform(\n",
    "    single_row, return_feature_values=False, predict_class=0\n",
    ")\n",
    "print(contribution_list)"
   ]
  }
 ],
 "metadata": {
  "kernelspec": {
   "display_name": "model_interpreter",
   "language": "python",
   "name": "model_interpreter"
  },
  "language_info": {
   "codemirror_mode": {
    "name": "ipython",
    "version": 3
   },
   "file_extension": ".py",
   "mimetype": "text/x-python",
   "name": "python",
   "nbconvert_exporter": "python",
   "pygments_lexer": "ipython3",
   "version": "3.9.16"
  },
  "toc": {
   "base_numbering": 1,
   "nav_menu": {},
   "number_sections": true,
   "sideBar": true,
   "skip_h1_title": false,
   "title_cell": "Table of Contents",
   "title_sidebar": "Contents",
   "toc_cell": false,
   "toc_position": {},
   "toc_section_display": true,
   "toc_window_display": false
  },
  "varInspector": {
   "cols": {
    "lenName": 16,
    "lenType": 16,
    "lenVar": 40
   },
   "kernels_config": {
    "python": {
     "delete_cmd_postfix": "",
     "delete_cmd_prefix": "del ",
     "library": "var_list.py",
     "varRefreshCmd": "print(var_dic_list())"
    },
    "r": {
     "delete_cmd_postfix": ") ",
     "delete_cmd_prefix": "rm(",
     "library": "var_list.r",
     "varRefreshCmd": "cat(var_dic_list()) "
    }
   },
   "types_to_exclude": [
    "module",
    "function",
    "builtin_function_or_method",
    "instance",
    "_Feature"
   ],
   "window_display": false
  }
 },
 "nbformat": 4,
 "nbformat_minor": 4
}
