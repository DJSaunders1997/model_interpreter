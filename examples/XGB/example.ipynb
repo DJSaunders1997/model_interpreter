{
 "cells": [
  {
   "cell_type": "markdown",
   "metadata": {},
   "source": [
    "## Model Interpreter Example Notebook"
   ]
  },
  {
   "cell_type": "markdown",
   "metadata": {},
   "source": [
    "### Setup"
   ]
  },
  {
   "cell_type": "code",
   "execution_count": 1,
   "metadata": {
    "ExecuteTime": {
     "end_time": "2024-04-08T15:42:40.459871Z",
     "start_time": "2024-04-08T15:42:38.382943Z"
    }
   },
   "outputs": [],
   "source": [
    "import xgboost as xgb\n",
    "\n",
    "from sklearn.datasets import fetch_california_housing\n",
    "from sklearn.model_selection import train_test_split\n",
    "\n",
    "import sys\n",
    "\n",
    "sys.path.append(\"../../\")\n",
    "\n",
    "import model_interpreter\n",
    "from model_interpreter.interpreter import ModelInterpreter"
   ]
  },
  {
   "cell_type": "code",
   "execution_count": 2,
   "metadata": {
    "ExecuteTime": {
     "end_time": "2024-04-08T15:42:40.475314Z",
     "start_time": "2024-04-08T15:42:40.463728Z"
    }
   },
   "outputs": [
    {
     "data": {
      "text/plain": [
       "'1.0.0'"
      ]
     },
     "execution_count": 2,
     "metadata": {},
     "output_type": "execute_result"
    }
   ],
   "source": [
    "model_interpreter.__version__"
   ]
  },
  {
   "cell_type": "markdown",
   "metadata": {},
   "source": [
    "### Prepare data"
   ]
  },
  {
   "cell_type": "code",
   "execution_count": 3,
   "metadata": {
    "ExecuteTime": {
     "end_time": "2024-04-08T15:42:40.504492Z",
     "start_time": "2024-04-08T15:42:40.478318Z"
    }
   },
   "outputs": [],
   "source": [
    "X, y = fetch_california_housing(return_X_y=True, as_frame=True)"
   ]
  },
  {
   "cell_type": "code",
   "execution_count": 4,
   "metadata": {
    "ExecuteTime": {
     "end_time": "2024-04-08T15:42:40.519491Z",
     "start_time": "2024-04-08T15:42:40.509495Z"
    }
   },
   "outputs": [],
   "source": [
    "X_train, X_test, y_train, y_test = train_test_split(\n",
    "    X, y, test_size=0.33, random_state=42\n",
    ")"
   ]
  },
  {
   "cell_type": "code",
   "execution_count": 5,
   "metadata": {
    "ExecuteTime": {
     "end_time": "2024-04-08T15:42:40.539653Z",
     "start_time": "2024-04-08T15:42:40.522560Z"
    }
   },
   "outputs": [],
   "source": [
    "dtrain = xgb.DMatrix(data=X_train, label=y_train)"
   ]
  },
  {
   "cell_type": "code",
   "execution_count": 6,
   "metadata": {
    "ExecuteTime": {
     "end_time": "2024-04-08T15:42:40.549561Z",
     "start_time": "2024-04-08T15:42:40.542560Z"
    }
   },
   "outputs": [],
   "source": [
    "feature_names = list(X.columns)"
   ]
  },
  {
   "cell_type": "code",
   "execution_count": 7,
   "metadata": {
    "ExecuteTime": {
     "end_time": "2024-04-08T15:42:40.599460Z",
     "start_time": "2024-04-08T15:42:40.554761Z"
    }
   },
   "outputs": [
    {
     "name": "stdout",
     "output_type": "stream",
     "text": [
      "['MedInc', 'HouseAge', 'AveRooms', 'AveBedrms', 'Population', 'AveOccup', 'Latitude', 'Longitude']\n"
     ]
    }
   ],
   "source": [
    "print(feature_names)"
   ]
  },
  {
   "cell_type": "markdown",
   "metadata": {},
   "source": [
    "### Train model"
   ]
  },
  {
   "cell_type": "code",
   "execution_count": 8,
   "metadata": {
    "ExecuteTime": {
     "end_time": "2024-04-08T15:42:40.878325Z",
     "start_time": "2024-04-08T15:42:40.602464Z"
    }
   },
   "outputs": [],
   "source": [
    "xgb_model = xgb.train(\n",
    "    params={\"seed\": 1, \"max_depth\": 6, \"min_child_weight\": 20}, dtrain=dtrain\n",
    ")"
   ]
  },
  {
   "cell_type": "markdown",
   "metadata": {},
   "source": [
    "### Build single model contribution object"
   ]
  },
  {
   "cell_type": "markdown",
   "metadata": {},
   "source": [
    "A model interpreter object is created by specifiying the feature names in the same order as used for building the model."
   ]
  },
  {
   "cell_type": "code",
   "execution_count": 9,
   "metadata": {
    "ExecuteTime": {
     "end_time": "2024-04-08T15:42:40.885329Z",
     "start_time": "2024-04-08T15:42:40.881323Z"
    }
   },
   "outputs": [],
   "source": [
    "single_model_contribution = ModelInterpreter(feature_names)"
   ]
  },
  {
   "cell_type": "markdown",
   "metadata": {},
   "source": [
    "### Build explainer"
   ]
  },
  {
   "cell_type": "markdown",
   "metadata": {},
   "source": [
    "The fit method needs to be called on the model to build the explainer."
   ]
  },
  {
   "cell_type": "code",
   "execution_count": 10,
   "metadata": {
    "ExecuteTime": {
     "end_time": "2024-04-08T15:42:40.931023Z",
     "start_time": "2024-04-08T15:42:40.892321Z"
    }
   },
   "outputs": [],
   "source": [
    "single_model_contribution.fit(xgb_model)"
   ]
  },
  {
   "cell_type": "markdown",
   "metadata": {},
   "source": [
    "### Define single row of data to get contributions for"
   ]
  },
  {
   "cell_type": "code",
   "execution_count": 11,
   "metadata": {
    "ExecuteTime": {
     "end_time": "2024-04-08T15:42:40.941019Z",
     "start_time": "2024-04-08T15:42:40.934023Z"
    }
   },
   "outputs": [],
   "source": [
    "single_row = X_test[feature_names].head(1)"
   ]
  },
  {
   "cell_type": "markdown",
   "metadata": {},
   "source": [
    "### Use the transform method to get feature contributions"
   ]
  },
  {
   "cell_type": "markdown",
   "metadata": {},
   "source": [
    "The transform method is called on the single row to create the class output, which by default returns a sorted list of dictionaries of features with descending absolute contribution to the prediction in the format:\n",
    "\n",
    "`[{feature_name: feature_contribution}, ... ]`\n",
    "\n",
    "return_feature_values can also be set to True so the return is:\n",
    "\n",
    "`[{feature_name: (feature_value, feature_contribution)}, ... ]`\n",
    "\n",
    "This only works if return_type is set to any value except the default of 'name_value_dicts'"
   ]
  },
  {
   "cell_type": "code",
   "execution_count": 12,
   "metadata": {
    "ExecuteTime": {
     "end_time": "2024-04-08T15:42:40.954025Z",
     "start_time": "2024-04-08T15:42:40.944025Z"
    }
   },
   "outputs": [
    {
     "name": "stdout",
     "output_type": "stream",
     "text": [
      "[{'Name': 'MedInc', 'Value': -0.7173248529}, {'Name': 'Latitude', 'Value': -0.2954589427}, {'Name': 'AveOccup', 'Value': -0.2584415674}, {'Name': 'Longitude', 'Value': -0.194666937}, {'Name': 'AveRooms', 'Value': 0.0455645546}, {'Name': 'HouseAge', 'Value': -0.0052499785}, {'Name': 'AveBedrms', 'Value': -0.0039967196}, {'Name': 'Population', 'Value': -0.0015882736}]\n"
     ]
    }
   ],
   "source": [
    "contribution_list = single_model_contribution.transform(\n",
    "    single_row, return_feature_values=False\n",
    ")\n",
    "print(contribution_list)"
   ]
  },
  {
   "cell_type": "code",
   "execution_count": 13,
   "metadata": {
    "ExecuteTime": {
     "end_time": "2024-04-08T15:42:41.012540Z",
     "start_time": "2024-04-08T15:42:40.957157Z"
    }
   },
   "outputs": [
    {
     "name": "stdout",
     "output_type": "stream",
     "text": [
      "[{'MedInc': (1.6812, -0.71732485)}, {'Latitude': (36.06, -0.29545894)}, {'AveOccup': (3.8774373259052926, -0.25844157)}, {'Longitude': (-119.01, -0.19466694)}, {'AveRooms': (4.192200557103064, 0.045564555)}, {'HouseAge': (25.0, -0.0052499785)}, {'AveBedrms': (1.0222841225626742, -0.0039967196)}, {'Population': (1392.0, -0.0015882736)}]\n"
     ]
    }
   ],
   "source": [
    "contribution_list = single_model_contribution.transform(\n",
    "    single_row, return_feature_values=True, return_type=\"dicts\"\n",
    ")\n",
    "print(contribution_list)"
   ]
  },
  {
   "cell_type": "markdown",
   "metadata": {},
   "source": [
    "You can provide a `feature_mapping` dictionary which can either map feature names to more interpretable names, or group features together"
   ]
  },
  {
   "cell_type": "code",
   "execution_count": 14,
   "metadata": {
    "ExecuteTime": {
     "end_time": "2024-04-08T15:42:41.072874Z",
     "start_time": "2024-04-08T15:42:41.015538Z"
    }
   },
   "outputs": [
    {
     "name": "stdout",
     "output_type": "stream",
     "text": [
      "[{'Name': 'MedInc feature', 'Value': -0.7173248529}, {'Name': 'Lattitude of location', 'Value': -0.2954589427}, {'Name': 'Average occupation', 'Value': -0.2584415674}, {'Name': 'Longitude of location', 'Value': -0.194666937}, {'Name': 'Average number of rooms', 'Value': 0.0455645546}, {'Name': 'Age of house', 'Value': -0.0052499785}, {'Name': 'Average number of bedrooms', 'Value': -0.0039967196}, {'Name': 'Population feature', 'Value': -0.0015882736}]\n"
     ]
    }
   ],
   "source": [
    "mapping_dict = {\n",
    "    \"MedInc\": \"MedInc feature\",\n",
    "    \"HouseAge\": \"Age of house\",\n",
    "    \"AveRooms\": \"Average number of rooms\",\n",
    "    \"AveBedrms\": \"Average number of bedrooms\",\n",
    "    \"Population\": \"Population feature\",\n",
    "    \"AveOccup\": \"Average occupation\",\n",
    "    \"Latitude\": \"Lattitude of location\",\n",
    "    \"Longitude\": \"Longitude of location\",\n",
    "}\n",
    "\n",
    "contribution_list_mapped = single_model_contribution.transform(\n",
    "    single_row, feature_mappings=mapping_dict\n",
    ")\n",
    "print(contribution_list_mapped)"
   ]
  },
  {
   "cell_type": "markdown",
   "metadata": {},
   "source": [
    "In the below example we create groups for the number of rooms and location. The resulting grouped contributions equal the sum of the individual feature contributions."
   ]
  },
  {
   "cell_type": "code",
   "execution_count": 15,
   "metadata": {
    "ExecuteTime": {
     "end_time": "2024-04-08T15:42:41.108869Z",
     "start_time": "2024-04-08T15:42:41.076875Z"
    }
   },
   "outputs": [
    {
     "name": "stdout",
     "output_type": "stream",
     "text": [
      "[{'Name': 'MedInc feature', 'Value': -0.7173248529}, {'Name': 'Location', 'Value': -0.4901258796}, {'Name': 'Average occupation', 'Value': -0.2584415674}, {'Name': 'Number of rooms', 'Value': 0.0455645546}, {'Name': 'Age of house', 'Value': -0.0052499785}, {'Name': 'Number of bedrooms', 'Value': -0.0039967196}, {'Name': 'Population feature', 'Value': -0.0015882736}]\n"
     ]
    }
   ],
   "source": [
    "grouping_dict = {\n",
    "    \"MedInc\": \"MedInc feature\",\n",
    "    \"HouseAge\": \"Age of house\",\n",
    "    \"AveRooms\": \"Number of rooms\",\n",
    "    \"AveBedrms\": \"Number of bedrooms\",\n",
    "    \"Population\": \"Population feature\",\n",
    "    \"AveOccup\": \"Average occupation\",\n",
    "    \"Latitude\": \"Location\",\n",
    "    \"Longitude\": \"Location\",\n",
    "}\n",
    "\n",
    "contribution_list_grouped = single_model_contribution.transform(\n",
    "    single_row, feature_mappings=grouping_dict\n",
    ")\n",
    "print(contribution_list_grouped)"
   ]
  },
  {
   "cell_type": "markdown",
   "metadata": {},
   "source": [
    "There are also three `sorting` options avaliable:\n",
    "- `'abs'`,  which is the default used in the above examples sorts by the absolute value of the feature contribution\n",
    "- `'positive'`, which sorts the contributions in descending order\n",
    "- `'label'`, which sorts in a descending order if `pred_label > 0`, and ascending if `pred_label = 0`\n",
    "\n",
    " `n_return` can also be specified to return only the top n features according to the sorting option applied. \n",
    " \n",
    " Some examples of how these variables are used are provided below."
   ]
  },
  {
   "cell_type": "code",
   "execution_count": 16,
   "metadata": {
    "ExecuteTime": {
     "end_time": "2024-04-08T15:42:41.117956Z",
     "start_time": "2024-04-08T15:42:41.111869Z"
    }
   },
   "outputs": [
    {
     "name": "stdout",
     "output_type": "stream",
     "text": [
      "[{'Name': 'MedInc feature', 'Value': -0.7173248529}, {'Name': 'Lattitude of location', 'Value': -0.2954589427}, {'Name': 'Average occupation', 'Value': -0.2584415674}, {'Name': 'Longitude of location', 'Value': -0.194666937}, {'Name': 'Average number of rooms', 'Value': 0.0455645546}]\n"
     ]
    }
   ],
   "source": [
    "contribution_list_abs = single_model_contribution.transform(\n",
    "    single_row, feature_mappings=mapping_dict, sorting=\"abs\", n_return=5\n",
    ")\n",
    "print(contribution_list_abs)"
   ]
  },
  {
   "cell_type": "code",
   "execution_count": 17,
   "metadata": {
    "ExecuteTime": {
     "end_time": "2024-04-08T15:42:41.161113Z",
     "start_time": "2024-04-08T15:42:41.121075Z"
    }
   },
   "outputs": [
    {
     "name": "stdout",
     "output_type": "stream",
     "text": [
      "[{'Name': 'Average number of rooms', 'Value': 0.0455645546}, {'Name': 'Population feature', 'Value': -0.0015882736}, {'Name': 'Average number of bedrooms', 'Value': -0.0039967196}, {'Name': 'Age of house', 'Value': -0.0052499785}, {'Name': 'Longitude of location', 'Value': -0.194666937}, {'Name': 'Average occupation', 'Value': -0.2584415674}, {'Name': 'Lattitude of location', 'Value': -0.2954589427}, {'Name': 'MedInc feature', 'Value': -0.7173248529}]\n"
     ]
    }
   ],
   "source": [
    "contribution_list_label_pos = single_model_contribution.transform(\n",
    "    single_row, feature_mappings=mapping_dict, sorting=\"label\", pred_label=1\n",
    ")\n",
    "print(contribution_list_label_pos)"
   ]
  },
  {
   "cell_type": "code",
   "execution_count": 18,
   "metadata": {
    "ExecuteTime": {
     "end_time": "2024-04-08T15:42:41.178490Z",
     "start_time": "2024-04-08T15:42:41.164115Z"
    }
   },
   "outputs": [
    {
     "name": "stdout",
     "output_type": "stream",
     "text": [
      "[{'Name': 'MedInc feature', 'Value': -0.7173248529}, {'Name': 'Lattitude of location', 'Value': -0.2954589427}, {'Name': 'Average occupation', 'Value': -0.2584415674}, {'Name': 'Longitude of location', 'Value': -0.194666937}, {'Name': 'Age of house', 'Value': -0.0052499785}, {'Name': 'Average number of bedrooms', 'Value': -0.0039967196}, {'Name': 'Population feature', 'Value': -0.0015882736}, {'Name': 'Average number of rooms', 'Value': 0.0455645546}]\n"
     ]
    }
   ],
   "source": [
    "contribution_list_label_0 = single_model_contribution.transform(\n",
    "    single_row, feature_mappings=mapping_dict, sorting=\"label\", pred_label=0\n",
    ")\n",
    "print(contribution_list_label_0)"
   ]
  },
  {
   "cell_type": "markdown",
   "metadata": {},
   "source": [
    "We can also chose to return a single dictionary with format `{feature_name: feature_contribution, ... }` or list of tuples with format `[(feature_name, feature_contribution),  ... ]` using the `return_type` variable "
   ]
  },
  {
   "cell_type": "code",
   "execution_count": 19,
   "metadata": {
    "ExecuteTime": {
     "end_time": "2024-04-08T15:42:41.189489Z",
     "start_time": "2024-04-08T15:42:41.181489Z"
    }
   },
   "outputs": [
    {
     "name": "stdout",
     "output_type": "stream",
     "text": [
      "{'MedInc feature': -0.71732485, 'Lattitude of location': -0.29545894, 'Average occupation': -0.25844157, 'Longitude of location': -0.19466694, 'Average number of rooms': 0.045564555}\n"
     ]
    }
   ],
   "source": [
    "contribution_single_dict = single_model_contribution.transform(\n",
    "    single_row, feature_mappings=mapping_dict, n_return=5, return_type=\"single_dict\"\n",
    ")\n",
    "print(contribution_single_dict)"
   ]
  },
  {
   "cell_type": "code",
   "execution_count": 20,
   "metadata": {
    "ExecuteTime": {
     "end_time": "2024-04-08T15:42:41.205849Z",
     "start_time": "2024-04-08T15:42:41.192489Z"
    }
   },
   "outputs": [
    {
     "name": "stdout",
     "output_type": "stream",
     "text": [
      "[('MedInc feature', -0.71732485), ('Lattitude of location', -0.29545894), ('Average occupation', -0.25844157), ('Longitude of location', -0.19466694), ('Average number of rooms', 0.045564555)]\n"
     ]
    }
   ],
   "source": [
    "contribution_list_tups = single_model_contribution.transform(\n",
    "    single_row, feature_mappings=mapping_dict, n_return=5, return_type=\"tuples\"\n",
    ")\n",
    "print(contribution_list_tups)"
   ]
  }
 ],
 "metadata": {
  "kernelspec": {
   "display_name": "model_interpreter",
   "language": "python",
   "name": "model_interpreter"
  },
  "language_info": {
   "codemirror_mode": {
    "name": "ipython",
    "version": 3
   },
   "file_extension": ".py",
   "mimetype": "text/x-python",
   "name": "python",
   "nbconvert_exporter": "python",
   "pygments_lexer": "ipython3",
   "version": "3.9.16"
  },
  "toc": {
   "base_numbering": 1,
   "nav_menu": {},
   "number_sections": true,
   "sideBar": true,
   "skip_h1_title": false,
   "title_cell": "Table of Contents",
   "title_sidebar": "Contents",
   "toc_cell": false,
   "toc_position": {},
   "toc_section_display": true,
   "toc_window_display": false
  },
  "varInspector": {
   "cols": {
    "lenName": 16,
    "lenType": 16,
    "lenVar": 40
   },
   "kernels_config": {
    "python": {
     "delete_cmd_postfix": "",
     "delete_cmd_prefix": "del ",
     "library": "var_list.py",
     "varRefreshCmd": "print(var_dic_list())"
    },
    "r": {
     "delete_cmd_postfix": ") ",
     "delete_cmd_prefix": "rm(",
     "library": "var_list.r",
     "varRefreshCmd": "cat(var_dic_list()) "
    }
   },
   "types_to_exclude": [
    "module",
    "function",
    "builtin_function_or_method",
    "instance",
    "_Feature"
   ],
   "window_display": false
  }
 },
 "nbformat": 4,
 "nbformat_minor": 2
}
